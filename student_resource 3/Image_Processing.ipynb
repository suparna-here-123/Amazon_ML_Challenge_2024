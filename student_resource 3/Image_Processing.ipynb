{
 "cells": [
  {
   "cell_type": "code",
   "execution_count": 3,
   "id": "a585efd6",
   "metadata": {},
   "outputs": [],
   "source": [
    "#!pip install pytesseract\n",
    "#!pip install easyocr"
   ]
  },
  {
   "cell_type": "code",
   "execution_count": 4,
   "id": "8fb4ba42",
   "metadata": {},
   "outputs": [],
   "source": [
    "import re\n",
    "#import constants\n",
    "import os\n",
    "import pandas as pd\n",
    "import multiprocessing\n",
    "import time\n",
    "from time import time as timer\n",
    "#from tqdm import tqdm\n",
    "import numpy as np\n",
    "from pathlib import Path\n",
    "from functools import partial\n",
    "#import requests\n",
    "import urllib\n",
    "from PIL import Image\n",
    "import easyocr\n",
    "import cv2"
   ]
  },
  {
   "cell_type": "code",
   "execution_count": 5,
   "id": "2b1e3b53",
   "metadata": {},
   "outputs": [],
   "source": [
    "def download_image(image_link, save_folder, retries=3, delay=3):\n",
    "    if not isinstance(image_link, str):\n",
    "        return\n",
    "\n",
    "    filename = Path(image_link).name\n",
    "    image_save_path = os.path.join(save_folder, filename)\n",
    "\n",
    "    if os.path.exists(image_save_path):\n",
    "        return\n",
    "\n",
    "    for _ in range(retries):\n",
    "        try:\n",
    "            urllib.request.urlretrieve(image_link, image_save_path)\n",
    "            return\n",
    "        except Exception as e:\n",
    "            print(e)\n",
    "            time.sleep(delay)\n",
    "    \n",
    "    create_placeholder_image(image_save_path) #Create a black placeholder image for invalid links/images\n"
   ]
  },
  {
   "cell_type": "code",
   "execution_count": 6,
   "id": "268dfd29",
   "metadata": {},
   "outputs": [],
   "source": [
    "def create_placeholder_image(image_save_path):\n",
    "    try:\n",
    "        placeholder_image = Image.new('RGB', (100, 100), color='black')\n",
    "        placeholder_image.save(image_save_path)\n",
    "    except Exception as e:\n",
    "        return\n"
   ]
  },
  {
   "cell_type": "code",
   "execution_count": 61,
   "id": "4585cdb1",
   "metadata": {},
   "outputs": [
    {
     "name": "stderr",
     "output_type": "stream",
     "text": [
      "Using CPU. Note: This module is much faster with a GPU.\n"
     ]
    }
   ],
   "source": [
    "reader = easyocr.Reader(['en'], gpu = False)"
   ]
  },
  {
   "cell_type": "code",
   "execution_count": 8,
   "id": "c2dfa18d",
   "metadata": {},
   "outputs": [],
   "source": [
    "# # loading the image\n",
    "# link_1 = \"https://m.media-amazon.com/images/I/61I9XdN6OFL.jpg\"\n",
    "# download_image(link_1, \"./images\")\n"
   ]
  },
  {
   "cell_type": "code",
   "execution_count": 9,
   "id": "e3304304",
   "metadata": {},
   "outputs": [],
   "source": [
    "# result_1 = reader.readtext(\"./images/61I9XdN6OFL.jpg\", detail = 0)\n",
    "# result_1"
   ]
  },
  {
   "cell_type": "code",
   "execution_count": 62,
   "id": "af1031dc",
   "metadata": {},
   "outputs": [],
   "source": [
    "# # loading the image\n",
    "link_3 = \"https://m.media-amazon.com/images/I/61CKA8YZZQL.jpg\"\n",
    "download_image(link_3, \"./images\")"
   ]
  },
  {
   "cell_type": "code",
   "execution_count": 70,
   "id": "902f4763",
   "metadata": {},
   "outputs": [
    {
     "data": {
      "text/plain": [
       "True"
      ]
     },
     "execution_count": 70,
     "metadata": {},
     "output_type": "execute_result"
    }
   ],
   "source": [
    "# STEP 1 : Normalization\n",
    "# Normalization of the image without adaptive threshold\n",
    "\n",
    "# Read color image\n",
    "image = cv2.imread(\"./images/61CKA8YZZQL.jpg\")\n",
    "\n",
    "# Convert image to grayscale\n",
    "gray_image = cv2.cvtColor(image, cv2.COLOR_BGR2GRAY)\n",
    "\n",
    "# Normalising grayscale image\n",
    "normalized_gray_image = cv2.normalize(\n",
    "    gray_image, \n",
    "    None, \n",
    "    alpha=0, \n",
    "    beta=255, \n",
    "    norm_type=cv2.NORM_MINMAX)\n",
    "\n",
    "# Convert normalized grayscale image back to color\n",
    "normalized_color_image = cv2.cvtColor(\n",
    "    normalized_gray_image, cv2.COLOR_GRAY2BGR)\n",
    "\n",
    "cv2.imwrite('./images/normalized_color_protein_2.jpg', normalized_color_image)"
   ]
  },
  {
   "cell_type": "code",
   "execution_count": 12,
   "id": "58e55618",
   "metadata": {},
   "outputs": [],
   "source": [
    "# # STEP 2 : Skew correction function\n",
    "# # HAVEN'T INCORPORATED THIS FOR NOW!\n",
    "# def deskew(image):\n",
    "#     co_ords = np.column_stack(np.where(image > 0))\n",
    "\n",
    "#     # Check if co_ords is empty\n",
    "#     if co_ords.size == 0:\n",
    "#         print(\"No non-zero pixels found in the image for skew correction.\")\n",
    "#         return image\n",
    "\n",
    "#     angle = cv2.minAreaRect(co_ords)[-1]\n",
    "#     print(angle)\n",
    "\n",
    "#     if angle < -45:\n",
    "#         angle = -(90 + angle)\n",
    "#     else:\n",
    "#         pass\n",
    "#         #angle = -angle\n",
    "\n",
    "#     (h, w) = image.shape[:2]\n",
    "#     center = (w // 2, h // 2)\n",
    "\n",
    "#     M = cv2.getRotationMatrix2D(center, angle, 1.0)\n",
    "#     rotated = cv2.warpAffine(image, M, (w, h), flags=cv2.INTER_CUBIC, borderMode=cv2.BORDER_REPLICATE)\n",
    "\n",
    "#     return rotated\n",
    "\n",
    "# # Convert to grayscale before deskewing (if working with color images)\n",
    "# gray_image_for_skew = cv2.cvtColor(image, cv2.COLOR_BGR2GRAY)\n",
    "\n",
    "# # Apply skew correction\n",
    "# skew_corrected_img = deskew(gray_image_for_skew)\n",
    "\n",
    "# # Save the skew corrected image\n",
    "# cv2.imwrite('./images/skew_corrected_img.jpg', skew_corrected_img)\n"
   ]
  },
  {
   "cell_type": "code",
   "execution_count": 71,
   "id": "2729ea84",
   "metadata": {},
   "outputs": [
    {
     "name": "stdout",
     "output_type": "stream",
     "text": [
      "Image saved at: ./images/resized_normalized_color_protein_2.jpg\n"
     ]
    }
   ],
   "source": [
    "# STEP 3 : IMAGE SCALING (scaling all images to have DPI of 300)\n",
    "def set_image_dpi(file_path, save_directory):\n",
    "    # Open the image\n",
    "    im = Image.open(file_path)\n",
    "\n",
    "    # Resize the image\n",
    "    length_x, width_y = im.size\n",
    "    factor = min(1, float(1024.0 / length_x))\n",
    "    size = int(factor * length_x), int(factor * width_y)\n",
    "    im_resized = im.resize(size, Image.Resampling.LANCZOS)\n",
    "\n",
    "    # Ensure the save directory exists\n",
    "    if not os.path.exists(save_directory):\n",
    "        os.makedirs(save_directory)\n",
    "\n",
    "    # Construct the full path for the new file\n",
    "    file_name = os.path.basename(file_path)  # Get the original file name\n",
    "    temp_filename = os.path.join(save_directory, f\"resized_{file_name}\")\n",
    "\n",
    "    # Save the resized image with the specified DPI\n",
    "    im_resized.save(temp_filename, dpi=(300, 300))\n",
    "\n",
    "    return temp_filename\n",
    "\n",
    "# Example usage\n",
    "save_directory = './images'  # Replace with your desired directory\n",
    "temp_filename = set_image_dpi('./images/normalized_color_protein_2.jpg', save_directory)\n",
    "print(f\"Image saved at: {temp_filename}\")\n"
   ]
  },
  {
   "cell_type": "code",
   "execution_count": 102,
   "id": "a1139288",
   "metadata": {},
   "outputs": [
    {
     "name": "stdout",
     "output_type": "stream",
     "text": [
      "Processed image saved to ./images/resized_normalized_color_protein_2_denoised.jpg\n"
     ]
    }
   ],
   "source": [
    "# STEP 4 : Noise Removal - removing small dots/patches w high intensity compared to the rest of the image\n",
    "def remove_noise(image_path):\n",
    "    # Read the image from the file path\n",
    "    image = cv2.imread(image_path)\n",
    "    \n",
    "    # Check if the image was loaded correctly\n",
    "    if image is None:\n",
    "        raise ValueError(f\"Image at path {image_path} could not be loaded.\")\n",
    "    \n",
    "    # Apply the denoising function\n",
    "    return cv2.fastNlMeansDenoisingColored(image, None, 10, 0, 11, 19)\n",
    "\n",
    "# Path to the input image\n",
    "input_image_path = './images/resized_normalized_color_protein_2.jpg'\n",
    "\n",
    "# Path to save the output image\n",
    "output_directory = './images'\n",
    "output_image_name = 'resized_normalized_color_protein_2_denoised.jpg'\n",
    "output_image_path = os.path.join(output_directory, output_image_name)\n",
    "\n",
    "# Ensure the output directory exists\n",
    "os.makedirs(output_directory, exist_ok=True)\n",
    "\n",
    "# Remove noise from the image\n",
    "without_noise = remove_noise(input_image_path)\n",
    "\n",
    "# Save the processed image to the specified directory\n",
    "cv2.imwrite(output_image_path, without_noise)\n",
    "\n",
    "print(f'Processed image saved to {output_image_path}')"
   ]
  },
  {
   "cell_type": "code",
   "execution_count": 103,
   "id": "093e1d2c",
   "metadata": {},
   "outputs": [
    {
     "data": {
      "text/plain": [
       "True"
      ]
     },
     "execution_count": 103,
     "metadata": {},
     "output_type": "execute_result"
    }
   ],
   "source": [
    "# STEP 6 : Gray Scale Image Conversion\n",
    "def get_grayscale(image):\n",
    "    # Read the image from the file path\n",
    "    image = cv2.imread(image)\n",
    "    \n",
    "    return cv2.cvtColor(image, cv2.COLOR_BGR2GRAY)\n",
    "\n",
    "grayscale_img = get_grayscale('./images/resized_normalized_color_protein_2_denoised.jpg')\n",
    "cv2.imwrite('./images/grayscale_img.jpg', grayscale_img)"
   ]
  },
  {
   "cell_type": "code",
   "execution_count": 104,
   "id": "6421ac42",
   "metadata": {},
   "outputs": [
    {
     "data": {
      "text/plain": [
       "True"
      ]
     },
     "execution_count": 104,
     "metadata": {},
     "output_type": "execute_result"
    }
   ],
   "source": [
    "# STEP 7 : Threshold\n",
    "# Using automatic threshold decider to convert an already grayscale image to increase contrast\n",
    "\n",
    "def thresholding(image):\n",
    "    return cv2.threshold(image, 0, 255, cv2.THRESH_BINARY + cv2.THRESH_OTSU)[1]\n",
    "\n",
    "grayscale_threshold = thresholding(normalized_gray_image)\n",
    "cv2.imwrite('./images/grayscale_threshold.jpg', grayscale_img)"
   ]
  },
  {
   "cell_type": "code",
   "execution_count": 105,
   "id": "3c91d8d1",
   "metadata": {},
   "outputs": [
    {
     "data": {
      "text/plain": [
       "['OZQBTRIHON',\n",
       " 'O',\n",
       " '10038 AuthentIC',\n",
       " 'Tnmu  Iurernoun',\n",
       " 'ocente',\n",
       " '65580',\n",
       " 'sienntatn',\n",
       " 'IRUSA',\n",
       " 'SERIOUS',\n",
       " '0',\n",
       " 'MASS',\n",
       " 'high',\n",
       " '1,251',\n",
       " '508',\n",
       " '2560',\n",
       " 'Faras',\n",
       " 'GAIN',\n",
       " 'FORMULA',\n",
       " '\"aldaice',\n",
       " 'DarUF?',\n",
       " \": '\",\n",
       " 'NET WI',\n",
       " '5kg (I1Ib)',\n",
       " 'Protein',\n",
       " 'Muscle',\n",
       " 'BUILDING',\n",
       " 'Weight',\n",
       " 'VANILLA',\n",
       " 'FLAVOUR',\n",
       " 'Punnereder teN caeo dmttunutelat',\n",
       " 'Fodofor',\n",
       " '8.5an']"
      ]
     },
     "execution_count": 105,
     "metadata": {},
     "output_type": "execute_result"
    }
   ],
   "source": [
    "result = reader.readtext(\"./images/grayscale_threshold.jpg\", detail = 0)\n",
    "result"
   ]
  }
 ],
 "metadata": {
  "kernelspec": {
   "display_name": "ocr_kernel",
   "language": "python",
   "name": "ocr_env"
  },
  "language_info": {
   "codemirror_mode": {
    "name": "ipython",
    "version": 3
   },
   "file_extension": ".py",
   "mimetype": "text/x-python",
   "name": "python",
   "nbconvert_exporter": "python",
   "pygments_lexer": "ipython3",
   "version": "3.12.3"
  }
 },
 "nbformat": 4,
 "nbformat_minor": 5
}
