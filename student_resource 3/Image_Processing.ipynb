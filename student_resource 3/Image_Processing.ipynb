{
 "cells": [
  {
   "cell_type": "code",
   "execution_count": 6,
   "id": "a585efd6",
   "metadata": {},
   "outputs": [],
   "source": [
    "#!pip install pytesseract\n",
    "#!pip install easyocr"
   ]
  },
  {
   "cell_type": "code",
   "execution_count": 31,
   "id": "8fb4ba42",
   "metadata": {},
   "outputs": [],
   "source": [
    "import re\n",
    "#import constants\n",
    "import os\n",
    "import pandas as pd\n",
    "import multiprocessing\n",
    "import time\n",
    "from time import time as timer\n",
    "#from tqdm import tqdm\n",
    "import numpy as np\n",
    "from pathlib import Path\n",
    "from functools import partial\n",
    "#import requests\n",
    "import urllib\n",
    "from PIL import Image\n",
    "import easyocr\n",
    "import cv2"
   ]
  },
  {
   "cell_type": "code",
   "execution_count": 14,
   "id": "2b1e3b53",
   "metadata": {},
   "outputs": [],
   "source": [
    "def download_image(image_link, save_folder, retries=3, delay=3):\n",
    "    if not isinstance(image_link, str):\n",
    "        return\n",
    "\n",
    "    filename = Path(image_link).name\n",
    "    image_save_path = os.path.join(save_folder, filename)\n",
    "\n",
    "    if os.path.exists(image_save_path):\n",
    "        return\n",
    "\n",
    "    for _ in range(retries):\n",
    "        try:\n",
    "            urllib.request.urlretrieve(image_link, image_save_path)\n",
    "            return\n",
    "        except Exception as e:\n",
    "            print(e)\n",
    "            time.sleep(delay)\n",
    "    \n",
    "    create_placeholder_image(image_save_path) #Create a black placeholder image for invalid links/images\n"
   ]
  },
  {
   "cell_type": "code",
   "execution_count": 12,
   "id": "268dfd29",
   "metadata": {},
   "outputs": [],
   "source": [
    "def create_placeholder_image(image_save_path):\n",
    "    try:\n",
    "        placeholder_image = Image.new('RGB', (100, 100), color='black')\n",
    "        placeholder_image.save(image_save_path)\n",
    "    except Exception as e:\n",
    "        return\n"
   ]
  },
  {
   "cell_type": "code",
   "execution_count": 20,
   "id": "4585cdb1",
   "metadata": {},
   "outputs": [],
   "source": [
    "reader = easyocr.Reader(['en'])"
   ]
  },
  {
   "cell_type": "code",
   "execution_count": 32,
   "id": "c2dfa18d",
   "metadata": {},
   "outputs": [],
   "source": [
    "# # loading the image\n",
    "# link_1 = \"https://m.media-amazon.com/images/I/61I9XdN6OFL.jpg\"\n",
    "# download_image(link_1, \"./images\")\n"
   ]
  },
  {
   "cell_type": "code",
   "execution_count": 33,
   "id": "e3304304",
   "metadata": {},
   "outputs": [],
   "source": [
    "# result_1 = reader.readtext(\"./images/61I9XdN6OFL.jpg\", detail = 0)\n",
    "# result_1"
   ]
  },
  {
   "cell_type": "code",
   "execution_count": 26,
   "id": "af1031dc",
   "metadata": {},
   "outputs": [],
   "source": [
    "# loading the image\n",
    "link_2 = \"https://m.media-amazon.com/images/I/71gSRbyXmoL.jpg\"\n",
    "download_image(link_2, \"./images\")"
   ]
  },
  {
   "cell_type": "code",
   "execution_count": 57,
   "id": "902f4763",
   "metadata": {},
   "outputs": [
    {
     "data": {
      "text/plain": [
       "True"
      ]
     },
     "execution_count": 57,
     "metadata": {},
     "output_type": "execute_result"
    }
   ],
   "source": [
    "# STEP 1 : Normalization\n",
    "# Normalization of the image without adaptive threshold\n",
    "\n",
    "# Read color image\n",
    "image = cv2.imread(\"./images/71gSRbyXmoL.jpg\")\n",
    "\n",
    "# Convert image to grayscale\n",
    "gray_image = cv2.cvtColor(image, cv2.COLOR_BGR2GRAY)\n",
    "\n",
    "# Normalising grayscale image\n",
    "normalized_gray_image = cv2.normalize(\n",
    "    gray_image, \n",
    "    None, \n",
    "    alpha=0, \n",
    "    beta=255, \n",
    "    norm_type=cv2.NORM_MINMAX)\n",
    "\n",
    "cv2.imwrite('./images/original_image.png', image)\n",
    "cv2.imwrite('./images/normalized_image.jpg', normalized_gray_image)\n"
   ]
  },
  {
   "cell_type": "code",
   "execution_count": 66,
   "id": "58e55618",
   "metadata": {},
   "outputs": [],
   "source": [
    "# STEP 2 : Skew correction function\n",
    "# HAVEN'T INCORPORATED THIS FOR NOW!\n",
    "def deskew(image):\n",
    "    co_ords = np.column_stack(np.where(image > 0))\n",
    "\n",
    "    # Check if co_ords is empty\n",
    "    if co_ords.size == 0:\n",
    "        print(\"No non-zero pixels found in the image for skew correction.\")\n",
    "        return image\n",
    "\n",
    "    angle = cv2.minAreaRect(co_ords)[-1]\n",
    "    print(angle)\n",
    "\n",
    "    if angle < -45:\n",
    "        angle = -(90 + angle)\n",
    "    else:\n",
    "        pass\n",
    "        #angle = -angle\n",
    "\n",
    "    (h, w) = image.shape[:2]\n",
    "    center = (w // 2, h // 2)\n",
    "\n",
    "    M = cv2.getRotationMatrix2D(center, angle, 1.0)\n",
    "    rotated = cv2.warpAffine(image, M, (w, h), flags=cv2.INTER_CUBIC, borderMode=cv2.BORDER_REPLICATE)\n",
    "\n",
    "    return rotated\n",
    "\n",
    "# # Convert to grayscale before deskewing (if working with color images)\n",
    "# gray_image_for_skew = cv2.cvtColor(image, cv2.COLOR_BGR2GRAY)\n",
    "\n",
    "# # Apply skew correction\n",
    "# skew_corrected_img = deskew(gray_image_for_skew)\n",
    "\n",
    "# # Save the skew corrected image\n",
    "# cv2.imwrite('./images/skew_corrected_img.jpg', skew_corrected_img)\n"
   ]
  },
  {
   "cell_type": "code",
   "execution_count": 73,
   "id": "2729ea84",
   "metadata": {},
   "outputs": [
    {
     "name": "stdout",
     "output_type": "stream",
     "text": [
      "Image saved at: ./images/resized_normalized_image.jpg\n"
     ]
    }
   ],
   "source": [
    "def set_image_dpi(file_path, save_directory):\n",
    "    # Open the image\n",
    "    im = Image.open(file_path)\n",
    "\n",
    "    # Resize the image\n",
    "    length_x, width_y = im.size\n",
    "    factor = min(1, float(1024.0 / length_x))\n",
    "    size = int(factor * length_x), int(factor * width_y)\n",
    "    im_resized = im.resize(size, Image.Resampling.LANCZOS)\n",
    "\n",
    "    # Ensure the save directory exists\n",
    "    if not os.path.exists(save_directory):\n",
    "        os.makedirs(save_directory)\n",
    "\n",
    "    # Construct the full path for the new file\n",
    "    file_name = os.path.basename(file_path)  # Get the original file name\n",
    "    temp_filename = os.path.join(save_directory, f\"resized_{file_name}\")\n",
    "\n",
    "    # Save the resized image with the specified DPI\n",
    "    im_resized.save(temp_filename, dpi=(300, 300))\n",
    "\n",
    "    return temp_filename\n",
    "\n",
    "# Example usage\n",
    "save_directory = './images'  # Replace with your desired directory\n",
    "temp_filename = set_image_dpi('./images/normalized_image.jpg', save_directory)\n",
    "print(f\"Image saved at: {temp_filename}\")\n"
   ]
  },
  {
   "cell_type": "code",
   "execution_count": 56,
   "id": "6421ac42",
   "metadata": {},
   "outputs": [
    {
     "data": {
      "text/plain": [
       "True"
      ]
     },
     "execution_count": 56,
     "metadata": {},
     "output_type": "execute_result"
    }
   ],
   "source": [
    "# Using automatic threshold decider to convert an already grayscale image to increase contrast\n",
    "\n",
    "def thresholding(image):\n",
    "    return cv2.threshold(image, 0, 255, cv2.THRESH_BINARY + cv2.THRESH_OTSU)[1]\n",
    "\n",
    "grayscale_threshold = thresholding(normalized_gray_image)\n",
    "cv2.imwrite('./images/grayscale_threshold.jpg', grayscale_threshold)"
   ]
  },
  {
   "cell_type": "code",
   "execution_count": 54,
   "id": "3c91d8d1",
   "metadata": {},
   "outputs": [
    {
     "data": {
      "text/plain": [
       "['E leLeeeE=_',\n",
       " 'Rcia',\n",
       " 'TEARRIFICY [',\n",
       " 'LEBENSMITTELECHT',\n",
       " 'GEPRAGTES',\n",
       " 'DESIGN',\n",
       " 'AS YoULIKE',\n",
       " 'BEST',\n",
       " 'Designed in',\n",
       " 'V',\n",
       " 'VV',\n",
       " 'cakea',\n",
       " 'Y',\n",
       " 'Bextin]',\n",
       " 'LIZENZIERTE UND GESCHITZTE DESIGNS',\n",
       " '1Cup',\n",
       " 'DAY',\n",
       " 'WITH',\n",
       " 'cecieics']"
      ]
     },
     "execution_count": 54,
     "metadata": {},
     "output_type": "execute_result"
    }
   ],
   "source": [
    "result_2 = reader.readtext(\"./images/normalized_image.jpg\", detail = 0)\n",
    "result_2"
   ]
  },
  {
   "cell_type": "code",
   "execution_count": 64,
   "id": "abfecf71",
   "metadata": {},
   "outputs": [
    {
     "data": {
      "text/plain": [
       "['1',\n",
       " 'p',\n",
       " 'Je',\n",
       " '1',\n",
       " '9',\n",
       " '13',\n",
       " '[',\n",
       " '{',\n",
       " '8',\n",
       " ')',\n",
       " '0',\n",
       " '2',\n",
       " 'L',\n",
       " '1',\n",
       " '2',\n",
       " '3']"
      ]
     },
     "execution_count": 64,
     "metadata": {},
     "output_type": "execute_result"
    }
   ],
   "source": [
    "result_3 = reader.readtext(\"./images/skew_corrected_img.jpg\", detail = 0)\n",
    "result_3"
   ]
  },
  {
   "cell_type": "code",
   "execution_count": null,
   "id": "c7f3856a",
   "metadata": {},
   "outputs": [],
   "source": []
  }
 ],
 "metadata": {
  "kernelspec": {
   "display_name": "ocr_kernel",
   "language": "python",
   "name": "ocr_env"
  },
  "language_info": {
   "codemirror_mode": {
    "name": "ipython",
    "version": 3
   },
   "file_extension": ".py",
   "mimetype": "text/x-python",
   "name": "python",
   "nbconvert_exporter": "python",
   "pygments_lexer": "ipython3",
   "version": "3.12.3"
  }
 },
 "nbformat": 4,
 "nbformat_minor": 5
}
