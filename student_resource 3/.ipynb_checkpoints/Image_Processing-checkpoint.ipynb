{
 "cells": [
  {
   "cell_type": "code",
   "execution_count": 6,
   "id": "a585efd6",
   "metadata": {},
   "outputs": [],
   "source": [
    "#!pip install pytesseract\n",
    "#!pip install easyocr"
   ]
  },
  {
   "cell_type": "code",
   "execution_count": 31,
   "id": "8fb4ba42",
   "metadata": {},
   "outputs": [],
   "source": [
    "import re\n",
    "#import constants\n",
    "import os\n",
    "import pandas as pd\n",
    "import multiprocessing\n",
    "import time\n",
    "from time import time as timer\n",
    "#from tqdm import tqdm\n",
    "import numpy as np\n",
    "from pathlib import Path\n",
    "from functools import partial\n",
    "#import requests\n",
    "import urllib\n",
    "from PIL import Image\n",
    "import easyocr\n",
    "import cv2"
   ]
  },
  {
   "cell_type": "code",
   "execution_count": 14,
   "id": "2b1e3b53",
   "metadata": {},
   "outputs": [],
   "source": [
    "def download_image(image_link, save_folder, retries=3, delay=3):\n",
    "    if not isinstance(image_link, str):\n",
    "        return\n",
    "\n",
    "    filename = Path(image_link).name\n",
    "    image_save_path = os.path.join(save_folder, filename)\n",
    "\n",
    "    if os.path.exists(image_save_path):\n",
    "        return\n",
    "\n",
    "    for _ in range(retries):\n",
    "        try:\n",
    "            urllib.request.urlretrieve(image_link, image_save_path)\n",
    "            return\n",
    "        except Exception as e:\n",
    "            print(e)\n",
    "            time.sleep(delay)\n",
    "    \n",
    "    create_placeholder_image(image_save_path) #Create a black placeholder image for invalid links/images\n"
   ]
  },
  {
   "cell_type": "code",
   "execution_count": 12,
   "id": "268dfd29",
   "metadata": {},
   "outputs": [],
   "source": [
    "def create_placeholder_image(image_save_path):\n",
    "    try:\n",
    "        placeholder_image = Image.new('RGB', (100, 100), color='black')\n",
    "        placeholder_image.save(image_save_path)\n",
    "    except Exception as e:\n",
    "        return\n"
   ]
  },
  {
   "cell_type": "code",
   "execution_count": 20,
   "id": "4585cdb1",
   "metadata": {},
   "outputs": [],
   "source": [
    "reader = easyocr.Reader(['en'])"
   ]
  },
  {
   "cell_type": "code",
   "execution_count": 32,
   "id": "3a3731f0",
   "metadata": {},
   "outputs": [],
   "source": [
    "# # loading the image\n",
    "# link_1 = \"https://m.media-amazon.com/images/I/61I9XdN6OFL.jpg\"\n",
    "# download_image(link_1, \"./images\")\n"
   ]
  },
  {
   "cell_type": "code",
   "execution_count": 33,
   "id": "4ca41d4c",
   "metadata": {},
   "outputs": [],
   "source": [
    "# result_1 = reader.readtext(\"./images/61I9XdN6OFL.jpg\", detail = 0)\n",
    "# result_1"
   ]
  },
  {
   "cell_type": "code",
   "execution_count": 26,
   "id": "78629767",
   "metadata": {},
   "outputs": [],
   "source": [
    "# loading the image\n",
    "link_2 = \"https://m.media-amazon.com/images/I/71gSRbyXmoL.jpg\"\n",
    "download_image(link_2, \"./images\")"
   ]
  },
  {
   "cell_type": "code",
   "execution_count": 35,
   "id": "e3135476",
   "metadata": {},
   "outputs": [],
   "source": [
    "# Normalization of the image\n",
    "\n",
    "# Read color image\n",
    "image = cv2.imread(\"./images/71gSRbyXmoL.jpg\")\n",
    "\n",
    "# Convert image to grayscale\n",
    "gray_image = cv2.cvtColor(image, cv2.COLOR_BGR2GRAY)"
   ]
  },
  {
   "cell_type": "code",
   "execution_count": 30,
   "id": "255c187b",
   "metadata": {},
   "outputs": [
    {
     "data": {
      "text/plain": [
       "['TLaeel=_',\n",
       " '7672',\n",
       " 'Xe',\n",
       " 'RRIFIC',\n",
       " 'LEBENSMITTELECHT',\n",
       " 'Gw',\n",
       " 'DAV',\n",
       " 'GEPRAGTES',\n",
       " 'DESIGN',\n",
       " 'As YQULIKE',\n",
       " 'BEST',\n",
       " 'Designed in',\n",
       " 'V',\n",
       " 'cnre',\n",
       " 'Y',\n",
       " '[Bextin ]',\n",
       " 'LIZENZIERTE UND GESCHITZTE DESIGNS',\n",
       " 'TEA',\n",
       " 'WITH',\n",
       " 'cccteics']"
      ]
     },
     "execution_count": 30,
     "metadata": {},
     "output_type": "execute_result"
    }
   ],
   "source": [
    "result_2 = reader.readtext(\"./images/71gSRbyXmoL.jpg\", detail = 0)\n",
    "result_2"
   ]
  },
  {
   "cell_type": "code",
   "execution_count": null,
   "id": "2e377648",
   "metadata": {},
   "outputs": [],
   "source": []
  }
 ],
 "metadata": {
  "kernelspec": {
   "display_name": "ocr_kernel",
   "language": "python",
   "name": "ocr_env"
  },
  "language_info": {
   "codemirror_mode": {
    "name": "ipython",
    "version": 3
   },
   "file_extension": ".py",
   "mimetype": "text/x-python",
   "name": "python",
   "nbconvert_exporter": "python",
   "pygments_lexer": "ipython3",
   "version": "3.12.3"
  }
 },
 "nbformat": 4,
 "nbformat_minor": 5
}
